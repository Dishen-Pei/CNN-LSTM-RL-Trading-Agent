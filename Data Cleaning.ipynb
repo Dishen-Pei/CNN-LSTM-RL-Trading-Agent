{
 "cells": [
  {
   "cell_type": "code",
   "execution_count": 29,
   "id": "cbfc0b8e-c03c-4ab2-86de-2862a8ed255e",
   "metadata": {},
   "outputs": [],
   "source": [
    "#Step2: Data cleaning"
   ]
  },
  {
   "cell_type": "code",
   "execution_count": 117,
   "id": "37baeb6c-21ab-4e5b-8520-67ebb6e3802b",
   "metadata": {},
   "outputs": [],
   "source": [
    "##import your database\n",
    "import pandas as pd\n",
    "import numpy as np\n",
    "df = pd.read_csv(r'xxxxxxxx', low_memory=False) #Import your csv data with your \n",
    "                 "
   ]
  },
  {
   "cell_type": "code",
   "execution_count": 119,
   "id": "7fb3012e-cf2d-44f5-93f1-46019371c463",
   "metadata": {
    "scrolled": true
   },
   "outputs": [
    {
     "name": "stdout",
     "output_type": "stream",
     "text": [
      "<class 'pandas.core.frame.DataFrame'>\n",
      "RangeIndex: 513865 entries, 0 to 513864\n",
      "Data columns (total 9 columns):\n",
      " #   Column       Non-Null Count   Dtype  \n",
      "---  ------       --------------   -----  \n",
      " 0   unix         513865 non-null  int64  \n",
      " 1   date         513865 non-null  object \n",
      " 2   symbol       513865 non-null  object \n",
      " 3   open         513865 non-null  int64  \n",
      " 4   high         513865 non-null  int64  \n",
      " 5   low          513865 non-null  int64  \n",
      " 6   close        513865 non-null  int64  \n",
      " 7   Volume BTC   513865 non-null  float64\n",
      " 8   Volume USDT  513865 non-null  float64\n",
      "dtypes: float64(2), int64(5), object(2)\n",
      "memory usage: 35.3+ MB\n",
      "None\n",
      "               unix           open           high            low  \\\n",
      "count  5.138650e+05  513865.000000  513865.000000  513865.000000   \n",
      "mean   1.719885e+09   65878.769190   65882.466113   65874.604669   \n",
      "std    9.088723e+06   14601.212215   14602.423597   14599.965944   \n",
      "min    1.704067e+09   38550.000000   38555.000000   38533.000000   \n",
      "25%    1.712063e+09   59050.000000   59052.000000   59045.000000   \n",
      "50%    1.719892e+09   64221.000000   64224.000000   64217.000000   \n",
      "75%    1.727731e+09   69025.000000   69027.000000   69018.000000   \n",
      "max    1.735690e+09  108256.000000  108300.000000  108256.000000   \n",
      "\n",
      "               close     Volume BTC   Volume USDT  \n",
      "count  513865.000000  513865.000000  5.138650e+05  \n",
      "mean    65878.501712       0.023780  1.557041e+03  \n",
      "std     14601.195643       0.252684  1.714892e+04  \n",
      "min     38551.000000       0.000000  0.000000e+00  \n",
      "25%     59049.000000       0.000000  0.000000e+00  \n",
      "50%     64220.000000       0.000000  0.000000e+00  \n",
      "75%     69022.000000       0.001471  9.849090e+01  \n",
      "max    108256.000000      51.515363  3.986617e+06  \n",
      "unix           0\n",
      "date           0\n",
      "symbol         0\n",
      "open           0\n",
      "high           0\n",
      "low            0\n",
      "close          0\n",
      "Volume BTC     0\n",
      "Volume USDT    0\n",
      "dtype: int64\n"
     ]
    }
   ],
   "source": [
    "##check data missing piece\n",
    "print(df.info())\n",
    "print(df.describe())\n",
    "print(df.isnull().sum())"
   ]
  },
  {
   "cell_type": "code",
   "execution_count": 121,
   "id": "f4639b70-a430-4b95-b0d6-16b7641d981d",
   "metadata": {},
   "outputs": [],
   "source": [
    "##Data type exchange\n",
    "df.columns = df.columns.str.strip()\n",
    "df['date'] = pd.to_datetime(df['date'])\n",
    "numeric_cols = ['open', 'high', 'low', 'close', 'Volume BTC', 'Volume USDT']\n",
    "df[numeric_cols] = df[numeric_cols].astype(float)\n"
   ]
  },
  {
   "cell_type": "code",
   "execution_count": 123,
   "id": "a0f2adf8-a5a8-4729-b1a4-f38054a5b94d",
   "metadata": {},
   "outputs": [
    {
     "name": "stdout",
     "output_type": "stream",
     "text": [
      "Repeating Line: 0\n"
     ]
    }
   ],
   "source": [
    "##Repeating Data Examine\n",
    "print(f\"Repeating Line: {df.duplicated().sum()}\")\n",
    "df = df.drop_duplicates()\n",
    "df = df.reset_index(drop=True)"
   ]
  },
  {
   "cell_type": "code",
   "execution_count": 125,
   "id": "f8a949cc-76b4-40f7-a8b6-7a8c708f807c",
   "metadata": {},
   "outputs": [],
   "source": [
    "##Data Consistency Examine\n",
    "invalid_high_low = df[df['high'] < df['low']]\n",
    "if not invalid_high_low.empty:\n",
    "    print(f\"Line {len(invalid_high_low)} high < low\")\n",
    "    df.loc[df['high'] < df['low'], ['high', 'low']] = df.loc[df['high'] < df['low'], ['low', 'high']].values\n",
    "    \n",
    "invalid_close = df[(df['close'] < df['low']) | (df['close'] > df['high'])]\n",
    "if not invalid_close.empty:\n",
    "    print(f\"Line {len(invalid_close)} close is not between high-low range\")\n",
    "    df['close'] = np.where(df['close'] < df['low'], df['low'], \n",
    "                          np.where(df['close'] > df['high'], df['high'], df['close']))"
   ]
  },
  {
   "cell_type": "code",
   "execution_count": 127,
   "id": "6a1b6eb5-2fcc-4a09-a0b2-9bf33093a08a",
   "metadata": {},
   "outputs": [],
   "source": [
    "##Adding Indicator\n",
    "df['price_change'] = df['close'] - df['open']\n",
    "df['price_range'] = df['high'] - df['low']\n",
    "df['vwap'] = np.where(df['Volume BTC'] > 0, \n",
    "            df['Volume USDT'] / df['Volume BTC'], \n",
    "            df['close'])  "
   ]
  },
  {
   "cell_type": "code",
   "execution_count": null,
   "id": "69e068c2-2036-434a-9f94-35bf1aa42d36",
   "metadata": {},
   "outputs": [
    {
     "name": "stdout",
     "output_type": "stream",
     "text": [
      "\n",
      "Cleaned Data Information:\n",
      "<class 'pandas.core.frame.DataFrame'>\n",
      "RangeIndex: 513865 entries, 0 to 513864\n",
      "Data columns (total 12 columns):\n",
      " #   Column        Non-Null Count   Dtype         \n",
      "---  ------        --------------   -----         \n",
      " 0   unix          513865 non-null  int64         \n",
      " 1   date          513865 non-null  datetime64[ns]\n",
      " 2   symbol        513865 non-null  object        \n",
      " 3   open          513865 non-null  float64       \n",
      " 4   high          513865 non-null  float64       \n",
      " 5   low           513865 non-null  float64       \n",
      " 6   close         513865 non-null  float64       \n",
      " 7   Volume BTC    513865 non-null  float64       \n",
      " 8   Volume USDT   513865 non-null  float64       \n",
      " 9   price_change  513865 non-null  float64       \n",
      " 10  price_range   513865 non-null  float64       \n",
      " 11  vwap          513865 non-null  float64       \n",
      "dtypes: datetime64[ns](1), float64(9), int64(1), object(1)\n",
      "memory usage: 47.0+ MB\n",
      "None\n",
      "\n",
      "Cleaned Data Summary:\n",
      "               unix                           date           open  \\\n",
      "count  5.138650e+05                         513865  513865.000000   \n",
      "mean   1.719885e+09  2024-07-02 01:50:30.370195200   65878.769190   \n",
      "min    1.704067e+09            2024-01-01 00:00:00   38550.000000   \n",
      "25%    1.712063e+09            2024-04-02 13:05:00   59050.000000   \n",
      "50%    1.719892e+09            2024-07-02 03:51:00   64221.000000   \n",
      "75%    1.727731e+09            2024-09-30 21:24:00   69025.000000   \n",
      "max    1.735690e+09            2024-12-31 23:59:00  108256.000000   \n",
      "std    9.088723e+06                            NaN   14601.212215   \n",
      "\n",
      "                high            low          close     Volume BTC  \\\n",
      "count  513865.000000  513865.000000  513865.000000  513865.000000   \n",
      "mean    65882.466113   65874.604669   65878.501712       0.023780   \n",
      "min     38555.000000   38533.000000   38551.000000       0.000000   \n",
      "25%     59052.000000   59045.000000   59049.000000       0.000000   \n",
      "50%     64224.000000   64217.000000   64220.000000       0.000000   \n",
      "75%     69027.000000   69018.000000   69022.000000       0.001471   \n",
      "max    108300.000000  108256.000000  108256.000000      51.515363   \n",
      "std     14602.423597   14599.965944   14601.195643       0.252684   \n",
      "\n",
      "        Volume USDT   price_change    price_range           vwap  \n",
      "count  5.138650e+05  513865.000000  513865.000000  513865.000000  \n",
      "mean   1.557041e+03      -0.267479       7.861444   65878.501712  \n",
      "min    0.000000e+00   -3820.000000       0.000000   38551.000000  \n",
      "25%    0.000000e+00       0.000000       0.000000   59049.000000  \n",
      "50%    0.000000e+00       0.000000       0.000000   64220.000000  \n",
      "75%    9.849090e+01       0.000000       0.000000   69022.000025  \n",
      "max    3.986617e+06    1470.000000    5536.000000  108256.000000  \n",
      "std    1.714892e+04      28.540393      39.693465   14601.195643  \n"
     ]
    }
   ],
   "source": [
    "print(\"\\nCleaned Data Information:\")\n",
    "print(df.info())\n",
    "print(\"\\nCleaned Data Summary:\")\n",
    "print(df.describe())\n",
    "df.to_csv('cleaned_crypto_data.csv', index=True)"
   ]
  }
 ],
 "metadata": {
  "kernelspec": {
   "display_name": "Python [conda env:base] *",
   "language": "python",
   "name": "conda-base-py"
  },
  "language_info": {
   "codemirror_mode": {
    "name": "ipython",
    "version": 3
   },
   "file_extension": ".py",
   "mimetype": "text/x-python",
   "name": "python",
   "nbconvert_exporter": "python",
   "pygments_lexer": "ipython3",
   "version": "3.12.7"
  }
 },
 "nbformat": 4,
 "nbformat_minor": 5
}
