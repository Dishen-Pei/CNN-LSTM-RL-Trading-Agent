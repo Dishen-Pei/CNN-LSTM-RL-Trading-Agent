{
 "cells": [
  {
   "cell_type": "code",
   "execution_count": null,
   "id": "dccb8108-fb12-466a-b69e-66b3be100bd7",
   "metadata": {},
   "outputs": [],
   "source": [
    "#Step 3: Establish CNN-LSTM Model"
   ]
  },
  {
   "cell_type": "code",
   "execution_count": 35,
   "id": "540bed3d-903c-4cef-84e8-392267db8a60",
   "metadata": {},
   "outputs": [
    {
     "name": "stdout",
     "output_type": "stream",
     "text": [
      "Requirement already satisfied: pandas in c:\\users\\24716\\anaconda3\\lib\\site-packages (2.2.2)\n",
      "Requirement already satisfied: numpy in c:\\users\\24716\\anaconda3\\lib\\site-packages (1.26.4)\n",
      "Requirement already satisfied: scikit-learn in c:\\users\\24716\\anaconda3\\lib\\site-packages (1.5.1)\n",
      "Requirement already satisfied: torch in c:\\users\\24716\\anaconda3\\lib\\site-packages (2.6.0)\n",
      "Requirement already satisfied: matplotlib in c:\\users\\24716\\anaconda3\\lib\\site-packages (3.9.2)\n",
      "Requirement already satisfied: python-dateutil>=2.8.2 in c:\\users\\24716\\anaconda3\\lib\\site-packages (from pandas) (2.9.0.post0)\n",
      "Requirement already satisfied: pytz>=2020.1 in c:\\users\\24716\\anaconda3\\lib\\site-packages (from pandas) (2024.1)\n",
      "Requirement already satisfied: tzdata>=2022.7 in c:\\users\\24716\\anaconda3\\lib\\site-packages (from pandas) (2023.3)\n",
      "Requirement already satisfied: scipy>=1.6.0 in c:\\users\\24716\\anaconda3\\lib\\site-packages (from scikit-learn) (1.13.1)\n",
      "Requirement already satisfied: joblib>=1.2.0 in c:\\users\\24716\\anaconda3\\lib\\site-packages (from scikit-learn) (1.4.2)\n",
      "Requirement already satisfied: threadpoolctl>=3.1.0 in c:\\users\\24716\\anaconda3\\lib\\site-packages (from scikit-learn) (3.5.0)\n",
      "Requirement already satisfied: filelock in c:\\users\\24716\\anaconda3\\lib\\site-packages (from torch) (3.13.1)\n",
      "Requirement already satisfied: typing-extensions>=4.10.0 in c:\\users\\24716\\anaconda3\\lib\\site-packages (from torch) (4.11.0)\n",
      "Requirement already satisfied: networkx in c:\\users\\24716\\anaconda3\\lib\\site-packages (from torch) (3.3)\n",
      "Requirement already satisfied: jinja2 in c:\\users\\24716\\anaconda3\\lib\\site-packages (from torch) (3.1.4)\n",
      "Requirement already satisfied: fsspec in c:\\users\\24716\\anaconda3\\lib\\site-packages (from torch) (2024.6.1)\n",
      "Requirement already satisfied: setuptools in c:\\users\\24716\\anaconda3\\lib\\site-packages (from torch) (75.1.0)\n",
      "Requirement already satisfied: sympy==1.13.1 in c:\\users\\24716\\anaconda3\\lib\\site-packages (from torch) (1.13.1)\n",
      "Requirement already satisfied: mpmath<1.4,>=1.1.0 in c:\\users\\24716\\anaconda3\\lib\\site-packages (from sympy==1.13.1->torch) (1.3.0)\n",
      "Requirement already satisfied: contourpy>=1.0.1 in c:\\users\\24716\\anaconda3\\lib\\site-packages (from matplotlib) (1.2.0)\n",
      "Requirement already satisfied: cycler>=0.10 in c:\\users\\24716\\anaconda3\\lib\\site-packages (from matplotlib) (0.11.0)\n",
      "Requirement already satisfied: fonttools>=4.22.0 in c:\\users\\24716\\anaconda3\\lib\\site-packages (from matplotlib) (4.51.0)\n",
      "Requirement already satisfied: kiwisolver>=1.3.1 in c:\\users\\24716\\anaconda3\\lib\\site-packages (from matplotlib) (1.4.4)\n",
      "Requirement already satisfied: packaging>=20.0 in c:\\users\\24716\\anaconda3\\lib\\site-packages (from matplotlib) (24.1)\n",
      "Requirement already satisfied: pillow>=8 in c:\\users\\24716\\anaconda3\\lib\\site-packages (from matplotlib) (10.4.0)\n",
      "Requirement already satisfied: pyparsing>=2.3.1 in c:\\users\\24716\\anaconda3\\lib\\site-packages (from matplotlib) (3.1.2)\n",
      "Requirement already satisfied: six>=1.5 in c:\\users\\24716\\anaconda3\\lib\\site-packages (from python-dateutil>=2.8.2->pandas) (1.16.0)\n",
      "Requirement already satisfied: MarkupSafe>=2.0 in c:\\users\\24716\\anaconda3\\lib\\site-packages (from jinja2->torch) (2.1.3)\n",
      "Collecting ta\n",
      "  Downloading ta-0.11.0.tar.gz (25 kB)\n",
      "  Preparing metadata (setup.py): started\n",
      "  Preparing metadata (setup.py): finished with status 'done'\n",
      "Requirement already satisfied: numpy in c:\\users\\24716\\anaconda3\\lib\\site-packages (from ta) (1.26.4)\n",
      "Requirement already satisfied: pandas in c:\\users\\24716\\anaconda3\\lib\\site-packages (from ta) (2.2.2)\n",
      "Requirement already satisfied: python-dateutil>=2.8.2 in c:\\users\\24716\\anaconda3\\lib\\site-packages (from pandas->ta) (2.9.0.post0)\n",
      "Requirement already satisfied: pytz>=2020.1 in c:\\users\\24716\\anaconda3\\lib\\site-packages (from pandas->ta) (2024.1)\n",
      "Requirement already satisfied: tzdata>=2022.7 in c:\\users\\24716\\anaconda3\\lib\\site-packages (from pandas->ta) (2023.3)\n",
      "Requirement already satisfied: six>=1.5 in c:\\users\\24716\\anaconda3\\lib\\site-packages (from python-dateutil>=2.8.2->pandas->ta) (1.16.0)\n",
      "Building wheels for collected packages: ta\n",
      "  Building wheel for ta (setup.py): started\n",
      "  Building wheel for ta (setup.py): finished with status 'done'\n",
      "  Created wheel for ta: filename=ta-0.11.0-py3-none-any.whl size=29421 sha256=a3bbc994da9049043f1d853a9510a39aee9c7baf2c46df5449cf8fc0f2ed7784\n",
      "  Stored in directory: c:\\users\\24716\\appdata\\local\\pip\\cache\\wheels\\5c\\a1\\5f\\c6b85a7d9452057be4ce68a8e45d77ba34234a6d46581777c6\n",
      "Successfully built ta\n",
      "Installing collected packages: ta\n",
      "Successfully installed ta-0.11.0\n"
     ]
    }
   ],
   "source": [
    "!pip install pandas numpy scikit-learn torch matplotlib\n",
    "!pip install ta"
   ]
  },
  {
   "cell_type": "code",
   "execution_count": 24,
   "id": "b6306e29-55a9-4aa8-924b-4f12ca2a41ac",
   "metadata": {},
   "outputs": [],
   "source": [
    "# Load Data\n",
    "import pandas as pd\n",
    "import numpy as np\n",
    "from sklearn.preprocessing import StandardScaler\n",
    "import torch\n",
    "import torch.nn as nn\n",
    "from torch.utils.data import TensorDataset, DataLoader\n",
    "import matplotlib.pyplot as plt\n",
    "from ta.momentum import RSIIndicator  \n",
    "from ta.trend import MACD, EMAIndicator\n",
    "from ta.volatility import BollingerBands\n",
    "df = pd.read_csv(r\"xxxxxxxxxx\") #read the price data\n",
    "features_cols = ['open', 'high', 'low', 'close', 'Volume BTC', 'Volume USDT', 'price_change', 'price_range', 'vwap']\n"
   ]
  },
  {
   "cell_type": "code",
   "execution_count": 26,
   "id": "792bd57e-bca9-430c-a6fe-51fbe4bd9773",
   "metadata": {},
   "outputs": [],
   "source": [
    "# Create tech indicator\n",
    "df[\"rsi_14\"] = RSIIndicator(close=df[\"close\"], window=14).rsi()\n",
    "macd = MACD(close=df[\"close\"])\n",
    "df[\"macd\"] = macd.macd()\n",
    "df[\"macd_signal\"] = macd.macd_signal()\n",
    "df[\"ema_5\"] = EMAIndicator(close=df[\"close\"], window=5).ema_indicator()\n",
    "df[\"ema_20\"] = EMAIndicator(close=df[\"close\"], window=20).ema_indicator()\n",
    "bb = BollingerBands(close=df[\"close\"], window=20)\n",
    "df[\"bb_upper\"] = bb.bollinger_hband()\n",
    "df[\"bb_middle\"] = bb.bollinger_mavg()\n",
    "df[\"bb_lower\"] = bb.bollinger_lband()\n",
    "df[\"momentum_10\"] = df[\"close\"] - df[\"close\"].shift(10)"
   ]
  },
  {
   "cell_type": "code",
   "execution_count": 28,
   "id": "e33ae01d-0f92-4ee0-8470-3bfc7f53b0fc",
   "metadata": {},
   "outputs": [],
   "source": [
    "# Preprocess\n",
    "future_close = df['close'].shift(-1)\n",
    "df['label'] = (future_close > df['close']).astype(int)\n",
    "df.dropna(inplace=True)\n",
    "\n",
    "features_cols = [\n",
    "    'open', 'high', 'low', 'close', 'Volume BTC', 'Volume USDT',\n",
    "    'price_change', 'price_range', 'vwap',\n",
    "    'rsi_14', 'macd', 'macd_signal',\n",
    "    'ema_5', 'ema_20',\n",
    "    'bb_upper', 'bb_middle', 'bb_lower',\n",
    "    'momentum_10'\n",
    "]\n",
    "\n",
    "features = df[features_cols].values\n",
    "labels = df['label'].values\n",
    "\n",
    "scaler = StandardScaler()                       #standardize the scaler\n",
    "features_scaled = scaler.fit_transform(features)  \n"
   ]
  },
  {
   "cell_type": "code",
   "execution_count": 30,
   "id": "a89e9e2e-3803-425d-84a5-58909c013e90",
   "metadata": {},
   "outputs": [],
   "source": [
    "# Create Sequences\n",
    "def create_sequences(features, labels, window=24):\n",
    "    X, y = [], []\n",
    "    for i in range(len(features) - window):\n",
    "        X.append(features[i:i+window].astype(np.float32))\n",
    "        y.append(labels[i+window])\n",
    "    return np.array(X), np.array(y)\n",
    "\n",
    "X, y = create_sequences(features_scaled[-100000:], labels[-100000:], window=24)"
   ]
  },
  {
   "cell_type": "code",
   "execution_count": 32,
   "id": "c0d3164d-3079-4654-bf32-5f505f9f1ac6",
   "metadata": {},
   "outputs": [],
   "source": [
    "# Dataset Split \n",
    "split = int(0.8 * len(X))                        #split data into train list and text list\n",
    "X_train, X_test = X[:split], X[split:]\n",
    "y_train, y_test = y[:split], y[split:]\n",
    "\n",
    "train_ds = TensorDataset(torch.tensor(X_train), torch.tensor(y_train, dtype=torch.long))\n",
    "test_ds = TensorDataset(torch.tensor(X_test), torch.tensor(y_test, dtype=torch.long))\n",
    "\n",
    "train_loader = DataLoader(train_ds, batch_size=64, shuffle=True)\n",
    "test_loader = DataLoader(test_ds, batch_size=64)\n"
   ]
  },
  {
   "cell_type": "code",
   "execution_count": 34,
   "id": "bafc3e4d-a23e-4a69-9224-584c9375212d",
   "metadata": {},
   "outputs": [],
   "source": [
    "# Define Model \n",
    "class LSTMTrader(nn.Module):\n",
    "    def __init__(self, input_size=9, hidden_size=64, num_layers=2):\n",
    "        super().__init__()\n",
    "        self.lstm = nn.LSTM(input_size, hidden_size, num_layers, batch_first=True)\n",
    "        self.fc = nn.Linear(hidden_size, 2)\n",
    "\n",
    "    def forward(self, x):\n",
    "        out, _ = self.lstm(x)\n",
    "        return self.fc(out[:, -1, :])\n",
    "\n",
    "model = LSTMTrader(input_size=X.shape[2])\n",
    "loss_fn = nn.CrossEntropyLoss()\n",
    "optimizer = torch.optim.Adam(model.parameters(), lr=0.001)\n"
   ]
  },
  {
   "cell_type": "code",
   "execution_count": 36,
   "id": "c2b24a43-613a-4b0d-84c8-0586dea96c1d",
   "metadata": {},
   "outputs": [
    {
     "name": "stdout",
     "output_type": "stream",
     "text": [
      "Epoch 1: Loss = 0.4608\n",
      "Epoch 2: Loss = 0.4542\n",
      "Epoch 3: Loss = 0.4530\n",
      "Epoch 4: Loss = 0.4519\n",
      "Epoch 5: Loss = 0.4513\n",
      "Epoch 6: Loss = 0.4503\n",
      "Epoch 7: Loss = 0.4495\n",
      "Epoch 8: Loss = 0.4488\n",
      "Epoch 9: Loss = 0.4481\n",
      "Epoch 10: Loss = 0.4472\n"
     ]
    }
   ],
   "source": [
    "# Train Model\n",
    "train_losses = []\n",
    "\n",
    "for epoch in range(10):\n",
    "    model.train()\n",
    "    total_loss = 0\n",
    "    for xb, yb in train_loader:\n",
    "        optimizer.zero_grad()\n",
    "        pred = model(xb)\n",
    "        loss = loss_fn(pred, yb)\n",
    "        loss.backward()\n",
    "        optimizer.step()\n",
    "        total_loss += loss.item()\n",
    "    \n",
    "    avg_loss = total_loss / len(train_loader)\n",
    "    train_losses.append(avg_loss)  # record avg_loss\n",
    "    print(f\"Epoch {epoch+1}: Loss = {avg_loss:.4f}\")"
   ]
  },
  {
   "cell_type": "code",
   "execution_count": 38,
   "id": "dad3eea4-52fd-4f99-b85f-1350d1204d3b",
   "metadata": {},
   "outputs": [
    {
     "data": {
      "image/png": "[encoded data removed]",
      "text/plain": [
       "<Figure size 800x400 with 1 Axes>"
      ]
     },
     "metadata": {},
     "output_type": "display_data"
    }
   ],
   "source": [
    "# Loss Curve Visualization\n",
    "import matplotlib.pyplot as plt\n",
    "\n",
    "plt.figure(figsize=(8, 4))\n",
    "plt.plot(train_losses, marker='o')\n",
    "plt.title(\"Training Loss Curve\")\n",
    "plt.xlabel(\"Epoch\")\n",
    "plt.ylabel(\"Loss\")\n",
    "plt.grid(True)\n",
    "plt.tight_layout()\n",
    "plt.show()"
   ]
  },
  {
   "cell_type": "code",
   "execution_count": 42,
   "id": "0b325608-f855-4eb2-8938-029746d7b922",
   "metadata": {},
   "outputs": [
    {
     "name": "stdout",
     "output_type": "stream",
     "text": [
      "Test Accuracy: 81.89%\n"
     ]
    }
   ],
   "source": [
    "# Test Accuracy Evaluate\n",
    "model.eval()\n",
    "correct, total = 0, 0\n",
    "with torch.no_grad():\n",
    "    for xb, yb in test_loader:\n",
    "        preds = model(xb).argmax(dim=1)\n",
    "        correct += (preds == yb).sum().item()\n",
    "        total += yb.size(0)\n",
    "\n",
    "print(f\"Test Accuracy: {correct / total:.2%}\")"
   ]
  }
 ],
 "metadata": {
  "kernelspec": {
   "display_name": "Python [conda env:base] *",
   "language": "python",
   "name": "conda-base-py"
  },
  "language_info": {
   "codemirror_mode": {
    "name": "ipython",
    "version": 3
   },
   "file_extension": ".py",
   "mimetype": "text/x-python",
   "name": "python",
   "nbconvert_exporter": "python",
   "pygments_lexer": "ipython3",
   "version": "3.12.7"
  }
 },
 "nbformat": 4,
 "nbformat_minor": 5
}
